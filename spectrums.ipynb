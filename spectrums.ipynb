{
 "cells": [
  {
   "cell_type": "code",
   "execution_count": null,
   "id": "59d950cb",
   "metadata": {},
   "outputs": [
    {
     "name": "stdout",
     "output_type": "stream",
     "text": [
      "{'B1': 'LC80400372016295LGN00_B1.TIF', 'B2': 'LC80400372016295LGN00_B2.TIF', 'B3': 'LC80400372016295LGN00_B3.TIF', 'B4': 'LC80400372016295LGN00_B4.TIF', 'B5': 'LC80400372016295LGN00_B5.TIF', 'B6': 'LC80400372016295LGN00_B6.TIF', 'B7': 'LC80400372016295LGN00_B7.TIF', 'B8': 'LC80400372016295LGN00_B8.TIF', 'B9': 'LC80400372016295LGN00_B9.TIF', 'B10': 'LC80400372016295LGN00_B10.TIF', 'B11': 'LC80400372016295LGN00_B11.TIF', 'BQA': 'LC80400372016295LGN00_BQA.TIF', 'MTL': None, 'ANG': None}\n"
     ]
    }
   ],
   "source": [
    "from pathlib import Path\n",
    "import cv2\n",
    "import numpy as np\n",
    "\n",
    "path = \"img2/\"\n",
    "folder = Path(path)\n",
    "\n",
    "\n",
    "band_files = {\n",
    "    \"B1\":None,\n",
    "    \"B2\":None,\n",
    "    \"B3\":None,\n",
    "    \"B4\":None,\n",
    "    \"B5\":None,\n",
    "    \"B6\":None,\n",
    "    \"B7\":None,\n",
    "    \"B8\":None,\n",
    "    \"B9\":None,\n",
    "    \"B10\":None,\n",
    "    \"B11\": None,\n",
    "    \"BQA\":None,\n",
    "    \"MTL\": None,\n",
    "    \"ANG\": None\n",
    "    \n",
    "}\n",
    "\n",
    "for key,value in band_files.items():\n",
    "    for file in folder.iterdir():\n",
    "        if file.is_file() and key+\".\" in file.name:\n",
    "            band_files[key] = file.name\n",
    "            break\n",
    "\n",
    "\n",
    "print(band_files)"
   ]
  },
  {
   "cell_type": "code",
   "execution_count": 2,
   "id": "1b7220e4",
   "metadata": {},
   "outputs": [],
   "source": [
    "def normalize_band(band):\n",
    "        band_min, band_max = np.percentile(band, (2, 98))\n",
    "        norm = np.clip((band - band_min) * 255.0 / (band_max - band_min), 0, 255)\n",
    "        return norm.astype(np.uint8)"
   ]
  },
  {
   "cell_type": "code",
   "execution_count": 3,
   "id": "badd6707",
   "metadata": {},
   "outputs": [],
   "source": [
    "def preprocess_images(image):\n",
    "\n",
    "    # Rotate Image\n",
    "    # Get the image dimensions\n",
    "    height, width = image.shape[:2]\n",
    "    # Define the rotation center\n",
    "    center = (width // 2, height // 2)\n",
    "    # Define the rotation angle\n",
    "    angle = 13.5  # Rotate by 45 degrees\n",
    "    # Define the scaling factor\n",
    "    scale = 1.0  # No scaling\n",
    "    # Get the rotation matrix\n",
    "    rotation_matrix = cv2.getRotationMatrix2D(center, angle, scale)\n",
    "    # Perform the rotation\n",
    "    rotated_image = cv2.warpAffine(image, rotation_matrix, (width, height))\n",
    "\n",
    "    # cv2.imwrite(path+\"rotated_img.TIF\", rotated_image)\n",
    "\n",
    "    # Crop image\n",
    "    cropped_image = rotated_image[663:7202, 699:7022]\n",
    "    \n",
    "    return cropped_image\n",
    "    # Save the cropped image\n",
    "    # cv2.imwrite(path+\"Cropped Image.jpg\", cropped_image)"
   ]
  },
  {
   "cell_type": "code",
   "execution_count": null,
   "id": "315fe255",
   "metadata": {},
   "outputs": [],
   "source": [
    "\n",
    "\n",
    "def generate_natural_colour_image():\n",
    "    # Load bands using OpenCV (assumes B4.tif, B3.tif, B2.tif are regular grayscale TIFFs)\n",
    "    red = cv2.imread(path+band_files[\"B4\"], cv2.IMREAD_UNCHANGED)\n",
    "    green = cv2.imread(path+band_files[\"B3\"], cv2.IMREAD_UNCHANGED)\n",
    "    blue = cv2.imread(path+band_files[\"B2\"], cv2.IMREAD_UNCHANGED)\n",
    "\n",
    "    red = preprocess_images(red)\n",
    "    green = preprocess_images(green)\n",
    "    blue = preprocess_images(blue)\n",
    "    \n",
    "    # Normalize bands to 8-bit (0–255)\n",
    "    \n",
    "\n",
    "    red_norm = normalize_band(red)\n",
    "    green_norm = normalize_band(green)\n",
    "    blue_norm = normalize_band(blue)\n",
    "\n",
    "    # Stack bands into BGR image for OpenCV display\n",
    "    natural_colour_image = cv2.merge((blue_norm, green_norm, red_norm))\n",
    "\n",
    "    # cv2.imwrite(path+\"432_natural_colour_image.TIF\", natural_colour_image)\n",
    "    cv2.imwrite(path+\"432_natural_colour_image.png\", natural_colour_image)\n",
    "\n",
    "\n"
   ]
  },
  {
   "cell_type": "code",
   "execution_count": 5,
   "id": "9d430c1e",
   "metadata": {},
   "outputs": [],
   "source": [
    "generate_natural_colour_image()"
   ]
  },
  {
   "cell_type": "code",
   "execution_count": null,
   "id": "02220102",
   "metadata": {},
   "outputs": [],
   "source": [
    "def generate_false_colour_urban_image():\n",
    "\n",
    "    red = cv2.imread(path+band_files[\"B4\"], cv2.IMREAD_UNCHANGED)\n",
    "    SWIR1 = cv2.imread(path+band_files[\"B6\"], cv2.IMREAD_UNCHANGED)\n",
    "    SWIR2 = cv2.imread(path+band_files[\"B7\"], cv2.IMREAD_UNCHANGED)\n",
    "\n",
    "    red = preprocess_images(red)\n",
    "    SWIR1 = preprocess_images(SWIR1)\n",
    "    SWIR2 = preprocess_images(SWIR2)\n",
    "\n",
    "    red_norm = normalize_band(red)\n",
    "    SWIR1_norm = normalize_band(SWIR1)\n",
    "    SWIR2_norm = normalize_band(SWIR2)\n",
    "\n",
    "    # Stack bands into BGR image for OpenCV display\n",
    "    # false_colour_image = cv2.merge((red_norm, green_norm, inr_norm))\n",
    "    false_colour_urban_image = cv2.merge((red_norm, SWIR1_norm,SWIR2_norm))\n",
    "\n",
    "\n",
    "    # cv2.imwrite(path+\"764_false_colour_urban_image.TIF\", false_colour_urban_image)\n",
    "    cv2.imwrite(path+\"764_false_colour_urban_image.png\", false_colour_urban_image)\n"
   ]
  },
  {
   "cell_type": "code",
   "execution_count": 7,
   "id": "02d5b6b5",
   "metadata": {},
   "outputs": [],
   "source": [
    "generate_false_colour_urban_image()"
   ]
  },
  {
   "cell_type": "code",
   "execution_count": null,
   "id": "d64ad223",
   "metadata": {},
   "outputs": [],
   "source": [
    "\n",
    "def generate_color_infrared_image():\n",
    "\n",
    "    red = cv2.imread(path+band_files[\"B4\"], cv2.IMREAD_UNCHANGED)\n",
    "    green = cv2.imread(path+band_files[\"B3\"], cv2.IMREAD_UNCHANGED)\n",
    "    infrared = cv2.imread(path+band_files[\"B5\"], cv2.IMREAD_UNCHANGED)\n",
    "\n",
    "    red = preprocess_images(red)\n",
    "    green = preprocess_images(green)\n",
    "    infrared = preprocess_images(infrared)\n",
    "\n",
    "    red_norm = normalize_band(red)\n",
    "    green_norm = normalize_band(green)\n",
    "    inr_norm = normalize_band(infrared)\n",
    "\n",
    "    # Stack bands into BGR image for OpenCV display\n",
    "    # false_colour_image = cv2.merge((red_norm, green_norm, inr_norm))\n",
    "    color_infrared_image  = cv2.merge((green_norm, red_norm,inr_norm))\n",
    "\n",
    "\n",
    "    # cv2.imwrite(path+\"543_color_infrared_image.TIF\", color_infrared_image)\n",
    "    cv2.imwrite(path+\"543_color_infrared_image.png\", color_infrared_image)\n"
   ]
  },
  {
   "cell_type": "code",
   "execution_count": 9,
   "id": "f9b49e72",
   "metadata": {},
   "outputs": [],
   "source": [
    "generate_color_infrared_image()"
   ]
  },
  {
   "cell_type": "code",
   "execution_count": null,
   "id": "92764ab9",
   "metadata": {},
   "outputs": [],
   "source": [
    "def generate_geology_composite_image():\n",
    "    SWIR2 = cv2.imread(path+band_files[\"B7\"], cv2.IMREAD_UNCHANGED) \n",
    "    SWIR1 = cv2.imread(path+band_files[\"B6\"], cv2.IMREAD_UNCHANGED)\n",
    "    blue = cv2.imread(path+band_files[\"B2\"], cv2.IMREAD_UNCHANGED)\n",
    "\n",
    "    SWIR2 = preprocess_images(SWIR2)\n",
    "    SWIR1 = preprocess_images(SWIR1)\n",
    "    blue = preprocess_images(blue)\n",
    "\n",
    "   \n",
    "\n",
    "    SWIR2_norm = normalize_band(SWIR2)\n",
    "    SWIR1_norm = normalize_band(SWIR1)\n",
    "    blue_norm = normalize_band(blue)\n",
    "\n",
    "    # Stack bands into BGR image for OpenCV display\n",
    "    geology_composite_image = cv2.merge((blue_norm, SWIR1_norm, SWIR2_norm))\n",
    "\n",
    "\n",
    "    # cv2.imwrite(path+\"geology_composite_image.TIF\", geology_composite_image)\n",
    "    cv2.imwrite(path+\"geology_composite_image.png\", geology_composite_image)\n",
    "\n",
    "\n"
   ]
  },
  {
   "cell_type": "code",
   "execution_count": 11,
   "id": "6cf60c11",
   "metadata": {},
   "outputs": [],
   "source": [
    "generate_geology_composite_image()"
   ]
  },
  {
   "cell_type": "code",
   "execution_count": null,
   "id": "572a4ce7",
   "metadata": {},
   "outputs": [],
   "source": [
    "def generate_short_wave_infrared_image():\n",
    "    SWIR2 = cv2.imread(path+band_files[\"B7\"], cv2.IMREAD_UNCHANGED) \n",
    "    SWIR1 = cv2.imread(path+band_files[\"B6\"], cv2.IMREAD_UNCHANGED)\n",
    "    red = cv2.imread(path+band_files[\"B4\"], cv2.IMREAD_UNCHANGED)\n",
    "\n",
    "    SWIR2 = preprocess_images(SWIR2)\n",
    "    SWIR1 = preprocess_images(SWIR1)\n",
    "    red = preprocess_images(red)\n",
    "\n",
    "   \n",
    "\n",
    "    SWIR2_norm = normalize_band(SWIR2)\n",
    "    SWIR1_norm = normalize_band(SWIR1)\n",
    "    red_norm = normalize_band(red)\n",
    "\n",
    "    # Stack bands into BGR image for OpenCV display\n",
    "    short_wave_infrared_image = cv2.merge((red_norm, SWIR1_norm,  SWIR2_norm))\n",
    "\n",
    "\n",
    "    # cv2.imwrite(path+\"short_wave_infrared_image.TIF\", short_wave_infrared_image)\n",
    "    cv2.imwrite(path+\"short_wave_infrared_image.png\", short_wave_infrared_image)\n"
   ]
  },
  {
   "cell_type": "code",
   "execution_count": 13,
   "id": "7a629da6",
   "metadata": {},
   "outputs": [],
   "source": [
    "# generate_short_wave_infrared_image()"
   ]
  },
  {
   "cell_type": "code",
   "execution_count": null,
   "id": "c2b9bcf7",
   "metadata": {},
   "outputs": [],
   "source": [
    "def generate_short_wave_infrared_image():\n",
    "    SWIR2 = cv2.imread(path+band_files[\"B7\"], cv2.IMREAD_UNCHANGED) \n",
    "    SWIR1 = cv2.imread(path+band_files[\"B6\"], cv2.IMREAD_UNCHANGED)\n",
    "    red = cv2.imread(path+band_files[\"B4\"], cv2.IMREAD_UNCHANGED)\n",
    "\n",
    "    SWIR2 = preprocess_images(SWIR2)\n",
    "    SWIR1 = preprocess_images(SWIR1)\n",
    "    red = preprocess_images(red)\n",
    "\n",
    "   \n",
    "\n",
    "    SWIR2_norm = normalize_band(SWIR2)\n",
    "    SWIR1_norm = normalize_band(SWIR1)\n",
    "    red_norm = normalize_band(red)\n",
    "\n",
    "\n",
    "    \n",
    "\n",
    "    # Stack bands into BGR image for OpenCV display\n",
    "    short_wave_infrared_image = cv2.merge((red_norm, SWIR1_norm,  SWIR2_norm))\n",
    "\n",
    "\n",
    "    # cv2.imwrite(path+\"short_wave_infrared_image.TIF\", short_wave_infrared_image)\n",
    "    cv2.imwrite(path+\"short_wave_infrared_image.png\", short_wave_infrared_image)"
   ]
  },
  {
   "cell_type": "code",
   "execution_count": 17,
   "id": "adc60f20",
   "metadata": {},
   "outputs": [],
   "source": [
    "def calculate_bandwidth(img,min, max):\n",
    "    increment = (max-min)/255\n",
    "    img = img*increment + min\n",
    "    return img\n",
    "\n"
   ]
  },
  {
   "cell_type": "code",
   "execution_count": null,
   "id": "d5a69f8e",
   "metadata": {},
   "outputs": [],
   "source": [
    "def generate_NDVI_image():\n",
    "    nir = cv2.imread(path+band_files[\"B5\"], cv2.IMREAD_UNCHANGED).astype(np.float32)\n",
    "    red = cv2.imread(path+band_files[\"B4\"], cv2.IMREAD_UNCHANGED).astype(np.float32)\n",
    "\n",
    "\n",
    "    nir = preprocess_images(nir)\n",
    "    red = preprocess_images(red)\n",
    "    nir_bandwidth = calculate_bandwidth(nir, 0.85,0.88)\n",
    "    red_bandwidth = calculate_bandwidth(red, 0.64,0.67)\n",
    "\n",
    "    ndvi = (nir_bandwidth-red_bandwidth)/(nir_bandwidth+red_bandwidth + 1e-5)\n",
    "\n",
    "    ndvi_norm = normalize_band(ndvi)\n",
    "    # cv2.imwrite(path+\"NDVI_image.TIF\", ndvi_norm)\n",
    "    cv2.imwrite(path+\"NDVI_image.png\", ndvi_norm)\n",
    "\n",
    "\n"
   ]
  },
  {
   "cell_type": "code",
   "execution_count": 19,
   "id": "34e0e9b6",
   "metadata": {},
   "outputs": [],
   "source": [
    "generate_NDVI_image()"
   ]
  },
  {
   "cell_type": "code",
   "execution_count": null,
   "id": "6f66bae0",
   "metadata": {},
   "outputs": [],
   "source": [
    "def generate_Normalized_burn_Ratio_image():\n",
    "    nir = cv2.imread(path+band_files[\"B5\"], cv2.IMREAD_UNCHANGED).astype(np.float32)\n",
    "    swir2 = cv2.imread(path+band_files[\"B7\"], cv2.IMREAD_UNCHANGED).astype(np.float32)\n",
    "\n",
    "\n",
    "    nir = preprocess_images(nir)\n",
    "    swir2 = preprocess_images(swir2)\n",
    "    nir_bandwidth = calculate_bandwidth(nir, 0.85,0.88)\n",
    "    swir2_bandwidth = calculate_bandwidth(swir2, 2.11,2.29)\n",
    "\n",
    "    nbr = (nir_bandwidth-swir2_bandwidth)/(nir_bandwidth+swir2_bandwidth + 1e-5)\n",
    "\n",
    "    nbr_norm = normalize_band(nbr)\n",
    "    # cv2.imwrite(path+\"Normalized_burn_Ratio_image.TIF\", nbr_norm)\n",
    "    cv2.imwrite(path+\"Normalized_burn_Ratio_image.png\", nbr_norm)"
   ]
  },
  {
   "cell_type": "code",
   "execution_count": 21,
   "id": "7f7043a3",
   "metadata": {},
   "outputs": [],
   "source": [
    "generate_Normalized_burn_Ratio_image()"
   ]
  },
  {
   "cell_type": "code",
   "execution_count": 22,
   "id": "b0651715",
   "metadata": {},
   "outputs": [],
   "source": [
    "def generate_Cloud_and_Cirrus_Detection_image():\n",
    "    b9 = cv2.imread(path+band_files[\"B9\"], cv2.IMREAD_UNCHANGED) \n",
    "    b2 = cv2.imread(path+band_files[\"B2\"], cv2.IMREAD_UNCHANGED)\n",
    "    b1 = cv2.imread(path+band_files[\"B1\"], cv2.IMREAD_UNCHANGED)\n",
    "\n",
    "    b9 = preprocess_images(b9)\n",
    "    b2 = preprocess_images(b2)\n",
    "    b1 = preprocess_images(b1)\n",
    "\n",
    "   \n",
    "\n",
    "    b9_norm = normalize_band(b9)\n",
    "    b2_norm = normalize_band(b2)\n",
    "    b1_norm = normalize_band(b1)\n",
    "\n",
    "\n",
    "    \n",
    "\n",
    "    # Stack bands into BGR image for OpenCV display\n",
    "    Cloud_and_Cirrus_Detection_image = cv2.merge((b1_norm, b2_norm,  b9_norm))\n",
    "\n",
    "\n",
    "    cv2.imwrite(path+\"912_Cloud_and_Cirrus_Detection_image.TIF\", Cloud_and_Cirrus_Detection_image)\n",
    "    cv2.imwrite(path+\"912_Cloud_and_Cirrus_Detection_image.png\", Cloud_and_Cirrus_Detection_image)"
   ]
  },
  {
   "cell_type": "code",
   "execution_count": 23,
   "id": "e7474bfc",
   "metadata": {},
   "outputs": [],
   "source": [
    "generate_Cloud_and_Cirrus_Detection_image()"
   ]
  },
  {
   "cell_type": "code",
   "execution_count": null,
   "id": "65fcefdc",
   "metadata": {},
   "outputs": [],
   "source": [
    "def generate_fire_and_burn_scar_image():\n",
    "    b7 = cv2.imread(path+band_files[\"B7\"], cv2.IMREAD_UNCHANGED) \n",
    "    b5 = cv2.imread(path+band_files[\"B5\"], cv2.IMREAD_UNCHANGED)\n",
    "    b4 = cv2.imread(path+band_files[\"B4\"], cv2.IMREAD_UNCHANGED)\n",
    "\n",
    "    b7 = preprocess_images(b7)\n",
    "    b5 = preprocess_images(b5)\n",
    "    b4 = preprocess_images(b4)\n",
    "\n",
    "   \n",
    "\n",
    "    b7_norm = normalize_band(b7)\n",
    "    b5_norm = normalize_band(b5)\n",
    "    b4_norm = normalize_band(b4)\n",
    "\n",
    "\n",
    "    \n",
    "\n",
    "    # Stack bands into BGR image for OpenCV display\n",
    "    fire_and_burn_scar_image = cv2.merge((b4_norm, b5_norm,  b7_norm))\n",
    "\n",
    "\n",
    "    # cv2.imwrite(path+\"754_fire_and_burn_scar_image.TIF\", fire_and_burn_scar_image)\n",
    "    cv2.imwrite(path+\"754_fire_and_burn_scar_image.png\", fire_and_burn_scar_image)"
   ]
  },
  {
   "cell_type": "code",
   "execution_count": 25,
   "id": "1d81563c",
   "metadata": {},
   "outputs": [],
   "source": [
    "generate_fire_and_burn_scar_image()"
   ]
  },
  {
   "cell_type": "markdown",
   "id": "201926dc",
   "metadata": {},
   "source": [
    "Rotate image \n",
    "https://opencv.org/blog/image-rotation-and-translation-using-opencv/ \n",
    "\n",
    "\n",
    "crop image https://learnopencv.com/cropping-an-image-using-opencv/"
   ]
  },
  {
   "cell_type": "code",
   "execution_count": null,
   "id": "70d48559",
   "metadata": {},
   "outputs": [],
   "source": [
    "def generate_MNDWI_image():\n",
    "    b6 = cv2.imread(path+band_files[\"B6\"], cv2.IMREAD_UNCHANGED).astype(np.float32)\n",
    "    b5 = cv2.imread(path+band_files[\"B5\"], cv2.IMREAD_UNCHANGED).astype(np.float32)\n",
    "    # nir = cv2.imread(path+band_files[\"B5\"], cv2.IMREAD_UNCHANGED)\n",
    "    # red = cv2.imread(path+band_files[\"B4\"], cv2.IMREAD_UNCHANGED)\n",
    "\n",
    "\n",
    "    b6 = preprocess_images(b6)\n",
    "    b5 = preprocess_images(b5)\n",
    "    # ndvi = (nir-red)/(nir+red + 1e-5)\n",
    "    # ndvi_NORM = normalize_band(ndvi)\n",
    "\n",
    "    # ndvi = np.clip(ndvi,-1,1)\n",
    "    # ndvi_NORM = cv2.normalize(ndvi,None,0,255,cv2.NORM_MINMAX)\n",
    "\n",
    "\n",
    "\n",
    "    # nir_NORM = normalize_band(nir)\n",
    "    # red_NORM = normalize_band(red)\n",
    "    b6_bandwidth = calculate_bandwidth(b6, 0.85,0.88)\n",
    "    b5_bandwidth = calculate_bandwidth(b5, 2.11,2.29)\n",
    "\n",
    "    MNDWI = (b6_bandwidth-b5_bandwidth)/(b6_bandwidth+b5_bandwidth + 1e-5)\n",
    "\n",
    "    MNDWI_norm = normalize_band(MNDWI)\n",
    "    # cv2.imwrite(path+\"MNDWI.TIF\", MNDWI_norm)\n",
    "    cv2.imwrite(path+\"MNDWI.png\", MNDWI_norm)"
   ]
  },
  {
   "cell_type": "code",
   "execution_count": 27,
   "id": "f60d4c59",
   "metadata": {},
   "outputs": [],
   "source": [
    "generate_MNDWI_image()"
   ]
  },
  {
   "cell_type": "code",
   "execution_count": null,
   "id": "8ecdc414",
   "metadata": {},
   "outputs": [],
   "source": []
  }
 ],
 "metadata": {
  "kernelspec": {
   "display_name": "base",
   "language": "python",
   "name": "python3"
  },
  "language_info": {
   "codemirror_mode": {
    "name": "ipython",
    "version": 3
   },
   "file_extension": ".py",
   "mimetype": "text/x-python",
   "name": "python",
   "nbconvert_exporter": "python",
   "pygments_lexer": "ipython3",
   "version": "3.12.4"
  }
 },
 "nbformat": 4,
 "nbformat_minor": 5
}
